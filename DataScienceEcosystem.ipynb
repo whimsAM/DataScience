{
 "cells": [
  {
   "cell_type": "markdown",
   "id": "d7ab722e-c6b6-4d71-80f5-564dd5f8ac20",
   "metadata": {},
   "source": [
    "# Data Science Tools and Ecosystem"
   ]
  },
  {
   "cell_type": "markdown",
   "id": "c6307cd5-fd01-4292-b022-094a1bdf6fab",
   "metadata": {},
   "source": [
    "## In this notebook, Data Science Tools and Ecosystem are summarized."
   ]
  },
  {
   "cell_type": "markdown",
   "id": "218162aa-dc73-49c2-bc3c-b7969a9cd7ea",
   "metadata": {},
   "source": [
    "### Some of the popular languages that Data Scientists use are:\n",
    "1. Python\n",
    "2. R\n",
    "3. SQL"
   ]
  },
  {
   "cell_type": "markdown",
   "id": "78e70210-facd-4763-833f-87bc38a6abed",
   "metadata": {},
   "source": [
    "### Some of the commonly used libraries used by Data Scientists include:\n",
    "1. Matplotlib\n",
    "2. Scikit-learn\n",
    "3. Keras"
   ]
  },
  {
   "cell_type": "markdown",
   "id": "7334112e-754e-4287-bbc4-d40ccf2f0084",
   "metadata": {},
   "source": [
    "| Data Science Tools       |\n",
    "|--------------------------|\n",
    "| Jupyter Notebook         |\n",
    "| RStudio                  |\n",
    "| Apache Zeppelin          |\n"
   ]
  },
  {
   "cell_type": "markdown",
   "id": "afd86ce4-a427-40c0-95ee-0567642dec1f",
   "metadata": {},
   "source": [
    "### Below are a few examples of evaluating arithmetic expressions in Python.\n",
    "\n",
    "1. **Addition**: `3 + 5` evaluates to `8`.\n",
    "2. **Subtraction**: `10 - 2` evaluates to `8`.\n",
    "3. **Multiplication**: `4 * 7` evaluates to `28`.\n",
    "4. **Division**: `16 / 4` evaluates to `4.0`.\n",
    "5. **Exponentiation**: `2 ** 3` evaluates to `8`.\n",
    "6. **Modulus**: `10 % 3` evaluates to `1`.\n"
   ]
  },
  {
   "cell_type": "code",
   "execution_count": 3,
   "id": "c7013910-928d-4ba8-98af-291133da5d9d",
   "metadata": {},
   "outputs": [
    {
     "data": {
      "text/plain": [
       "17"
      ]
     },
     "execution_count": 3,
     "metadata": {},
     "output_type": "execute_result"
    }
   ],
   "source": [
    "# This is a simple arithmetic expression to multiply then add integers.\n",
    "(3 * 4) + 5\n"
   ]
  },
  {
   "cell_type": "code",
   "execution_count": 4,
   "id": "d7f6d3ce-09b2-4ec3-ab19-05b604c04622",
   "metadata": {},
   "outputs": [
    {
     "data": {
      "text/plain": [
       "3.3333333333333335"
      ]
     },
     "execution_count": 4,
     "metadata": {},
     "output_type": "execute_result"
    }
   ],
   "source": [
    "# This will convert 200 minutes to hours by dividing by 60.\n",
    "200 / 60\n"
   ]
  },
  {
   "cell_type": "markdown",
   "id": "73f4c65d-4c2c-45e2-bf40-968c396a5769",
   "metadata": {},
   "source": [
    "## Author\n",
    "Advithiya"
   ]
  },
  {
   "cell_type": "markdown",
   "id": "f7297a09-edaf-4d3d-a507-f03ded1cb14e",
   "metadata": {},
   "source": [
    "**objectives:**\n",
    "- List Popular languages for data Science\n",
    "- Key libraries used in Data Science\n",
    "- Examples of srithmetic operators in python\n",
    "- tools and environments used for Data Science\n",
    "- Coverting hours to minutes"
   ]
  },
  {
   "cell_type": "code",
   "execution_count": null,
   "id": "86dc6fbc-7a63-4788-a260-ab77ca05e6ad",
   "metadata": {},
   "outputs": [],
   "source": []
  }
 ],
 "metadata": {
  "kernelspec": {
   "display_name": "Python 3 (ipykernel)",
   "language": "python",
   "name": "python3"
  },
  "language_info": {
   "codemirror_mode": {
    "name": "ipython",
    "version": 3
   },
   "file_extension": ".py",
   "mimetype": "text/x-python",
   "name": "python",
   "nbconvert_exporter": "python",
   "pygments_lexer": "ipython3",
   "version": "3.10.2"
  }
 },
 "nbformat": 4,
 "nbformat_minor": 5
}
